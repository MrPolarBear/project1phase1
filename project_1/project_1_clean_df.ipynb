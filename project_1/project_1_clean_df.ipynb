{
 "cells": [
  {
   "cell_type": "code",
   "execution_count": null,
   "metadata": {},
   "outputs": [],
   "source": [
    "import numpy as np\n",
    "import pandas as pd\n",
    "import re\n",
    "import matplotlib.pyplot as plt\n",
    "import seaborn as sns"
   ]
  },
  {
   "cell_type": "code",
   "execution_count": null,
   "metadata": {},
   "outputs": [],
   "source": [
    "df = pd.read_csv('./data/AviationData.csv', encoding = 'latin-1')"
   ]
  },
  {
   "cell_type": "markdown",
   "metadata": {},
   "source": [
    "# Reset Display or Max Display setting here"
   ]
  },
  {
   "cell_type": "code",
   "execution_count": null,
   "metadata": {},
   "outputs": [],
   "source": [
    "pd.set_option('display.max_rows', None)\n",
    "pd.set_option('display.max_columns', None)\n",
    "\n",
    "#TO SEE EVERYTHING"
   ]
  },
  {
   "cell_type": "code",
   "execution_count": null,
   "metadata": {},
   "outputs": [],
   "source": [
    "pd.reset_option('all')\n",
    "#RUN THIS WHEN DONE SEEING EVERYTHING PLS"
   ]
  },
  {
   "cell_type": "markdown",
   "metadata": {},
   "source": [
    "# Making copy of original DF"
   ]
  },
  {
   "cell_type": "code",
   "execution_count": null,
   "metadata": {},
   "outputs": [],
   "source": [
    "df_edited = df.copy()"
   ]
  },
  {
   "cell_type": "markdown",
   "metadata": {},
   "source": [
    "# Fixing Weather Condition and Injury Severity"
   ]
  },
  {
   "cell_type": "code",
   "execution_count": null,
   "metadata": {},
   "outputs": [],
   "source": [
    "df_edited['Weather.Condition'] = df['Weather.Condition'].replace(to_replace = 'Unk', value = 'UNK')"
   ]
  },
  {
   "cell_type": "code",
   "execution_count": null,
   "metadata": {},
   "outputs": [],
   "source": [
    "df_edited['Weather.Condition'].value_counts()"
   ]
  },
  {
   "cell_type": "code",
   "execution_count": null,
   "metadata": {},
   "outputs": [],
   "source": [
    "df_edited['Injury.Severity'].replace('Fatal(349)', 'Fatal', inplace = True)\n",
    "i = 0\n",
    "while i <= 270:\n",
    "    df_edited['Injury.Severity'].replace('Fatal('+str(i)+')', 'Fatal', inplace = True)\n",
    "    i += 1"
   ]
  },
  {
   "cell_type": "code",
   "execution_count": null,
   "metadata": {},
   "outputs": [],
   "source": [
    "df_edited['Injury.Severity'].value_counts()"
   ]
  },
  {
   "cell_type": "markdown",
   "metadata": {},
   "source": [
    "# Cleaning Make Col"
   ]
  },
  {
   "cell_type": "code",
   "execution_count": null,
   "metadata": {},
   "outputs": [],
   "source": [
    "df_edited['Make'] = df_edited['Make'].astype(str)\n",
    "df_edited['Make'] = df_edited['Make'].apply(str.lower)"
   ]
  },
  {
   "cell_type": "code",
   "execution_count": null,
   "metadata": {},
   "outputs": [],
   "source": [
    "makeindex = df_edited['Make'].value_counts().index.tolist()\n",
    "top20 = makeindex[:20]\n",
    "#making an index of top 20 to clean"
   ]
  },
  {
   "cell_type": "code",
   "execution_count": null,
   "metadata": {},
   "outputs": [],
   "source": [
    "def make_cleaner(inlist, indf):\n",
    "    for ind in indf.index:\n",
    "        for inmake in inlist:\n",
    "            if 'bellanca' in indf['Make'][ind]:\n",
    "                indf['Make'][ind] = 'bellanca'\n",
    "            elif 'dehavilland' in indf['Make'][ind]:\n",
    "                indf['Make'][ind] = 'de havilland'\n",
    "            elif 'cirrus' in indf['Make'][ind]:\n",
    "                indf['Make'][ind] = 'cirrus'\n",
    "            elif 'rockwell' in indf['Make'][ind]:\n",
    "                indf['Make'][ind] = 'rockwell'\n",
    "            elif 'diamond' in indf['Make'][ind]:\n",
    "                indf['Make'][ind] = 'diamond'\n",
    "            elif 'ayres' in indf['Make'][ind]:\n",
    "                indf['Make'][ind] = 'ayres'\n",
    "            elif 'aviat' in indf['Make'][ind]:\n",
    "                indf['Make'][ind] = 'aviat'\n",
    "            elif 'fairchild' in indf['Make'][ind]:\n",
    "                indf['Make'][ind] = 'fairchild'\n",
    "            elif 'eurocopter' in indf['Make'][ind]:\n",
    "                indf['Make'][ind] = 'eurocopter'\n",
    "            elif 'bombardier' in indf['Make'][ind]:\n",
    "                indf['Make'][ind] = 'bombardier'\n",
    "            elif inmake in indf['Make'][ind] and inmake != 'bellanca':\n",
    "                indf['Make'][ind] = inmake\n",
    "    return indf\n",
    "\n",
    "#function to clean and merge names, also caught some more to merge"
   ]
  },
  {
   "cell_type": "code",
   "execution_count": null,
   "metadata": {},
   "outputs": [],
   "source": [
    "df_edited = make_cleaner(top20, df_edited)"
   ]
  },
  {
   "cell_type": "code",
   "execution_count": null,
   "metadata": {
    "scrolled": true
   },
   "outputs": [],
   "source": [
    "for ind in df_edited.index:\n",
    "    df_edited['Make'][ind] = df_edited['Make'][ind].title()\n",
    "    \n",
    "#Capitalizing"
   ]
  },
  {
   "cell_type": "markdown",
   "metadata": {},
   "source": [
    "# Making year col and counter"
   ]
  },
  {
   "cell_type": "code",
   "execution_count": null,
   "metadata": {},
   "outputs": [],
   "source": [
    "df_edited['Event.Date'] = pd.to_datetime(df_edited['Event.Date'])"
   ]
  },
  {
   "cell_type": "code",
   "execution_count": null,
   "metadata": {},
   "outputs": [],
   "source": [
    "df_edited['year'] = df_edited['Event.Date'].dt.year"
   ]
  },
  {
   "cell_type": "code",
   "execution_count": null,
   "metadata": {},
   "outputs": [],
   "source": [
    "df_edited['counter'] = 1"
   ]
  },
  {
   "cell_type": "markdown",
   "metadata": {},
   "source": [
    "# Clearing Nulls"
   ]
  },
  {
   "cell_type": "code",
   "execution_count": null,
   "metadata": {},
   "outputs": [],
   "source": [
    "df_edited['Total.Fatal.Injuries'] = df_edited['Total.Fatal.Injuries'].fillna(0)\n",
    "df_edited['Total.Serious.Injuries'] = df_edited['Total.Serious.Injuries'].fillna(0)\n",
    "df_edited['Total.Minor.Injuries'] = df_edited['Total.Minor.Injuries'].fillna(0)\n",
    "df_edited['Total.Uninjured'] = df_edited['Total.Uninjured'].fillna(0)"
   ]
  },
  {
   "cell_type": "code",
   "execution_count": null,
   "metadata": {},
   "outputs": [],
   "source": [
    "df_edited['Purpose.of.flight'] = df_edited['Purpose.of.flight'].fillna('Unknown')"
   ]
  },
  {
   "cell_type": "code",
   "execution_count": null,
   "metadata": {},
   "outputs": [],
   "source": [
    "df_edited['Number.of.Engines'] = df_edited['Number.of.Engines'].fillna(-99)"
   ]
  },
  {
   "cell_type": "code",
   "execution_count": null,
   "metadata": {},
   "outputs": [],
   "source": [
    "df_edited['Engine.Type'] = df_edited['Engine.Type'].fillna('Unknown')"
   ]
  },
  {
   "cell_type": "markdown",
   "metadata": {},
   "source": [
    "# Exporting Clean Dataframe"
   ]
  },
  {
   "cell_type": "code",
   "execution_count": null,
   "metadata": {},
   "outputs": [],
   "source": [
    "df_edited.to_csv('clean_df_final.csv', index=True)"
   ]
  },
  {
   "cell_type": "code",
   "execution_count": null,
   "metadata": {},
   "outputs": [],
   "source": []
  }
 ],
 "metadata": {
  "kernelspec": {
   "display_name": "Python (learn-env)",
   "language": "python",
   "name": "learn-env"
  },
  "language_info": {
   "codemirror_mode": {
    "name": "ipython",
    "version": 3
   },
   "file_extension": ".py",
   "mimetype": "text/x-python",
   "name": "python",
   "nbconvert_exporter": "python",
   "pygments_lexer": "ipython3",
   "version": "3.8.5"
  }
 },
 "nbformat": 4,
 "nbformat_minor": 4
}

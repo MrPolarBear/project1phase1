{
 "cells": [
  {
   "cell_type": "code",
   "execution_count": 1,
   "metadata": {},
   "outputs": [],
   "source": [
    "import numpy as np\n",
    "import pandas as pd\n",
    "import re\n",
    "import matplotlib.pyplot as plt\n",
    "import seaborn as sns"
   ]
  },
  {
   "cell_type": "code",
   "execution_count": 2,
   "metadata": {},
   "outputs": [
    {
     "name": "stderr",
     "output_type": "stream",
     "text": [
      "F:\\Anaconda\\envs\\learn-env\\lib\\site-packages\\IPython\\core\\interactiveshell.py:3145: DtypeWarning: Columns (6,7,28) have mixed types.Specify dtype option on import or set low_memory=False.\n",
      "  has_raised = await self.run_ast_nodes(code_ast.body, cell_name,\n"
     ]
    }
   ],
   "source": [
    "df = pd.read_csv('./data/AviationData.csv', encoding = 'latin-1')"
   ]
  },
  {
   "cell_type": "markdown",
   "metadata": {},
   "source": [
    "# Reset Display or Max Display setting here"
   ]
  },
  {
   "cell_type": "code",
   "execution_count": 3,
   "metadata": {},
   "outputs": [],
   "source": [
    "pd.set_option('display.max_rows', None)\n",
    "pd.set_option('display.max_columns', None)\n",
    "\n",
    "#TO SEE EVERYTHING"
   ]
  },
  {
   "cell_type": "code",
   "execution_count": 4,
   "metadata": {},
   "outputs": [
    {
     "name": "stdout",
     "output_type": "stream",
     "text": [
      "\n",
      ": boolean\n",
      "    use_inf_as_null had been deprecated and will be removed in a future\n",
      "    version. Use `use_inf_as_na` instead.\n",
      "\n"
     ]
    },
    {
     "name": "stderr",
     "output_type": "stream",
     "text": [
      "F:\\Anaconda\\envs\\learn-env\\lib\\site-packages\\pandas\\_config\\config.py:622: FutureWarning: \n",
      ": boolean\n",
      "    use_inf_as_null had been deprecated and will be removed in a future\n",
      "    version. Use `use_inf_as_na` instead.\n",
      "\n",
      "  warnings.warn(d.msg, FutureWarning)\n"
     ]
    }
   ],
   "source": [
    "pd.reset_option('all')\n",
    "#RUN THIS WHEN DONE SEEING EVERYTHING PLS"
   ]
  },
  {
   "cell_type": "markdown",
   "metadata": {},
   "source": [
    "# Making copy of original DF"
   ]
  },
  {
   "cell_type": "code",
   "execution_count": 5,
   "metadata": {},
   "outputs": [],
   "source": [
    "df_edited = df.copy()"
   ]
  },
  {
   "cell_type": "markdown",
   "metadata": {},
   "source": [
    "# Fixing Weather Condition and Injury Severity"
   ]
  },
  {
   "cell_type": "code",
   "execution_count": 6,
   "metadata": {},
   "outputs": [],
   "source": [
    "df_edited['Weather.Condition'] = df['Weather.Condition'].replace(to_replace = 'Unk', value = 'UNK')"
   ]
  },
  {
   "cell_type": "code",
   "execution_count": 7,
   "metadata": {},
   "outputs": [
    {
     "data": {
      "text/plain": [
       "VMC    77303\n",
       "IMC     5976\n",
       "UNK     1118\n",
       "Name: Weather.Condition, dtype: int64"
      ]
     },
     "execution_count": 7,
     "metadata": {},
     "output_type": "execute_result"
    }
   ],
   "source": [
    "df_edited['Weather.Condition'].value_counts()"
   ]
  },
  {
   "cell_type": "code",
   "execution_count": 8,
   "metadata": {},
   "outputs": [],
   "source": [
    "df_edited['Injury.Severity'].replace('Fatal(349)', 'Fatal', inplace = True)\n",
    "i = 0\n",
    "while i <= 270:\n",
    "    df_edited['Injury.Severity'].replace('Fatal('+str(i)+')', 'Fatal', inplace = True)\n",
    "    i += 1"
   ]
  },
  {
   "cell_type": "code",
   "execution_count": 9,
   "metadata": {},
   "outputs": [
    {
     "data": {
      "text/plain": [
       "Non-Fatal      67357\n",
       "Fatal          17826\n",
       "Incident        2219\n",
       "Minor            218\n",
       "Serious          173\n",
       "Unavailable       96\n",
       "Name: Injury.Severity, dtype: int64"
      ]
     },
     "execution_count": 9,
     "metadata": {},
     "output_type": "execute_result"
    }
   ],
   "source": [
    "df_edited['Injury.Severity'].value_counts()"
   ]
  },
  {
   "cell_type": "markdown",
   "metadata": {},
   "source": [
    "# Cleaning Make Col"
   ]
  },
  {
   "cell_type": "code",
   "execution_count": 10,
   "metadata": {},
   "outputs": [],
   "source": [
    "df_edited['Make'] = df_edited['Make'].astype(str)\n",
    "df_edited['Make'] = df_edited['Make'].apply(str.lower)"
   ]
  },
  {
   "cell_type": "code",
   "execution_count": 11,
   "metadata": {},
   "outputs": [],
   "source": [
    "makeindex = df_edited['Make'].value_counts().index.tolist()\n",
    "top20 = makeindex[:20]\n",
    "#making an index of top 20 to clean"
   ]
  },
  {
   "cell_type": "code",
   "execution_count": 57,
   "metadata": {},
   "outputs": [],
   "source": [
    "def make_cleaner(inlist, indf):\n",
    "    for ind in indf.index:\n",
    "        for inmake in inlist:\n",
    "            if 'bellanca' in indf['Make'][ind]:\n",
    "                indf['Make'][ind] = 'bellanca'\n",
    "            elif 'dehavilland' in indf['Make'][ind]:\n",
    "                indf['Make'][ind] = 'de havilland'\n",
    "            elif 'cirrus' in indf['Make'][ind]:\n",
    "                indf['Make'][ind] = 'cirrus'\n",
    "            elif 'rockwell' in indf['Make'][ind]:\n",
    "                indf['Make'][ind] = 'rockwell'\n",
    "            elif 'diamond' in indf['Make'][ind]:\n",
    "                indf['Make'][ind] = 'diamond'\n",
    "            elif 'ayres' in indf['Make'][ind]:\n",
    "                indf['Make'][ind] = 'ayres'\n",
    "            elif 'aviat' in indf['Make'][ind]:\n",
    "                indf['Make'][ind] = 'aviat'\n",
    "            elif 'fairchild' in indf['Make'][ind]:\n",
    "                indf['Make'][ind] = 'fairchild'\n",
    "            elif 'eurocopter' in indf['Make'][ind]:\n",
    "                indf['Make'][ind] = 'eurocopter'\n",
    "            elif 'bombardier' in indf['Make'][ind]:\n",
    "                indf['Make'][ind] = 'bombardier'\n",
    "            elif inmake in indf['Make'][ind] and inmake != 'bellanca':\n",
    "                indf['Make'][ind] = inmake\n",
    "    return indf\n",
    "\n",
    "#function to clean and merge names, also caught some more to merge"
   ]
  },
  {
   "cell_type": "code",
   "execution_count": 13,
   "metadata": {
    "collapsed": true
   },
   "outputs": [
    {
     "name": "stderr",
     "output_type": "stream",
     "text": [
      "<ipython-input-12-48ef4d1bf3d2>:23: SettingWithCopyWarning: \n",
      "A value is trying to be set on a copy of a slice from a DataFrame\n",
      "\n",
      "See the caveats in the documentation: https://pandas.pydata.org/pandas-docs/stable/user_guide/indexing.html#returning-a-view-versus-a-copy\n",
      "  indf['Make'][ind] = inmake\n",
      "<ipython-input-12-48ef4d1bf3d2>:11: SettingWithCopyWarning: \n",
      "A value is trying to be set on a copy of a slice from a DataFrame\n",
      "\n",
      "See the caveats in the documentation: https://pandas.pydata.org/pandas-docs/stable/user_guide/indexing.html#returning-a-view-versus-a-copy\n",
      "  indf['Make'][ind] = 'rockwell'\n",
      "<ipython-input-12-48ef4d1bf3d2>:5: SettingWithCopyWarning: \n",
      "A value is trying to be set on a copy of a slice from a DataFrame\n",
      "\n",
      "See the caveats in the documentation: https://pandas.pydata.org/pandas-docs/stable/user_guide/indexing.html#returning-a-view-versus-a-copy\n",
      "  indf['Make'][ind] = 'bellanca'\n",
      "<ipython-input-12-48ef4d1bf3d2>:19: SettingWithCopyWarning: \n",
      "A value is trying to be set on a copy of a slice from a DataFrame\n",
      "\n",
      "See the caveats in the documentation: https://pandas.pydata.org/pandas-docs/stable/user_guide/indexing.html#returning-a-view-versus-a-copy\n",
      "  indf['Make'][ind] = 'fairchild'\n",
      "<ipython-input-12-48ef4d1bf3d2>:17: SettingWithCopyWarning: \n",
      "A value is trying to be set on a copy of a slice from a DataFrame\n",
      "\n",
      "See the caveats in the documentation: https://pandas.pydata.org/pandas-docs/stable/user_guide/indexing.html#returning-a-view-versus-a-copy\n",
      "  indf['Make'][ind] = 'aviat'\n",
      "<ipython-input-12-48ef4d1bf3d2>:15: SettingWithCopyWarning: \n",
      "A value is trying to be set on a copy of a slice from a DataFrame\n",
      "\n",
      "See the caveats in the documentation: https://pandas.pydata.org/pandas-docs/stable/user_guide/indexing.html#returning-a-view-versus-a-copy\n",
      "  indf['Make'][ind] = 'ayres'\n",
      "<ipython-input-12-48ef4d1bf3d2>:9: SettingWithCopyWarning: \n",
      "A value is trying to be set on a copy of a slice from a DataFrame\n",
      "\n",
      "See the caveats in the documentation: https://pandas.pydata.org/pandas-docs/stable/user_guide/indexing.html#returning-a-view-versus-a-copy\n",
      "  indf['Make'][ind] = 'cirrus'\n",
      "<ipython-input-12-48ef4d1bf3d2>:21: SettingWithCopyWarning: \n",
      "A value is trying to be set on a copy of a slice from a DataFrame\n",
      "\n",
      "See the caveats in the documentation: https://pandas.pydata.org/pandas-docs/stable/user_guide/indexing.html#returning-a-view-versus-a-copy\n",
      "  indf['Make'][ind] = 'eurocopter'\n",
      "<ipython-input-12-48ef4d1bf3d2>:13: SettingWithCopyWarning: \n",
      "A value is trying to be set on a copy of a slice from a DataFrame\n",
      "\n",
      "See the caveats in the documentation: https://pandas.pydata.org/pandas-docs/stable/user_guide/indexing.html#returning-a-view-versus-a-copy\n",
      "  indf['Make'][ind] = 'diamond'\n",
      "<ipython-input-12-48ef4d1bf3d2>:7: SettingWithCopyWarning: \n",
      "A value is trying to be set on a copy of a slice from a DataFrame\n",
      "\n",
      "See the caveats in the documentation: https://pandas.pydata.org/pandas-docs/stable/user_guide/indexing.html#returning-a-view-versus-a-copy\n",
      "  indf['Make'][ind] = 'de havilland'\n"
     ]
    }
   ],
   "source": [
    "df_edited = make_cleaner(top20, df_edited)"
   ]
  },
  {
   "cell_type": "code",
   "execution_count": 14,
   "metadata": {
    "scrolled": true
   },
   "outputs": [
    {
     "name": "stderr",
     "output_type": "stream",
     "text": [
      "<ipython-input-14-52c8240ae420>:2: SettingWithCopyWarning: \n",
      "A value is trying to be set on a copy of a slice from a DataFrame\n",
      "\n",
      "See the caveats in the documentation: https://pandas.pydata.org/pandas-docs/stable/user_guide/indexing.html#returning-a-view-versus-a-copy\n",
      "  df_edited['Make'][ind] = df_edited['Make'][ind].title()\n"
     ]
    }
   ],
   "source": [
    "for ind in df_edited.index:\n",
    "    df_edited['Make'][ind] = df_edited['Make'][ind].title()\n",
    "    \n",
    "#Capitalizing"
   ]
  },
  {
   "cell_type": "markdown",
   "metadata": {},
   "source": [
    "# Making year col and counter"
   ]
  },
  {
   "cell_type": "code",
   "execution_count": 15,
   "metadata": {},
   "outputs": [],
   "source": [
    "df_edited['Event.Date'] = pd.to_datetime(df_edited['Event.Date'])"
   ]
  },
  {
   "cell_type": "code",
   "execution_count": 16,
   "metadata": {},
   "outputs": [],
   "source": [
    "df_edited['year'] = df_edited['Event.Date'].dt.year"
   ]
  },
  {
   "cell_type": "code",
   "execution_count": 17,
   "metadata": {},
   "outputs": [],
   "source": [
    "df_edited['counter'] = 1"
   ]
  },
  {
   "cell_type": "markdown",
   "metadata": {},
   "source": [
    "# Clearing Nulls"
   ]
  },
  {
   "cell_type": "code",
   "execution_count": 38,
   "metadata": {},
   "outputs": [],
   "source": [
    "df_edited['Total.Fatal.Injuries'] = df_edited['Total.Fatal.Injuries'].fillna(0)\n",
    "df_edited['Total.Serious.Injuries'] = df_edited['Total.Serious.Injuries'].fillna(0)\n",
    "df_edited['Total.Minor.Injuries'] = df_edited['Total.Minor.Injuries'].fillna(0)\n",
    "df_edited['Total.Uninjured'] = df_edited['Total.Uninjured'].fillna(0)"
   ]
  },
  {
   "cell_type": "markdown",
   "metadata": {},
   "source": [
    "# Creating new DF of only post 1985"
   ]
  },
  {
   "cell_type": "code",
   "execution_count": 39,
   "metadata": {},
   "outputs": [],
   "source": [
    "df_edited2 = df_edited[df_edited['year']>1985].copy()"
   ]
  },
  {
   "cell_type": "markdown",
   "metadata": {},
   "source": [
    "# Fatality Cleaning"
   ]
  },
  {
   "cell_type": "code",
   "execution_count": 40,
   "metadata": {},
   "outputs": [],
   "source": [
    "df_edited2['total_pop'] = (df_edited2['Total.Fatal.Injuries'] + df_edited2['Total.Minor.Injuries'] + df_edited2['Total.Serious.Injuries'] + df_edited2['Total.Uninjured'])\n",
    "\n",
    "#Creating total_pop col"
   ]
  },
  {
   "cell_type": "code",
   "execution_count": null,
   "metadata": {},
   "outputs": [],
   "source": [
    "#GROUP BY ENGINE AND MAKE"
   ]
  },
  {
   "cell_type": "code",
   "execution_count": 41,
   "metadata": {},
   "outputs": [],
   "source": [
    "sum_engine_make = df_edited2.groupby(['Make', 'Number.of.Engines']).sum().sort_values(by='total_pop', ascending = False)"
   ]
  },
  {
   "cell_type": "code",
   "execution_count": 42,
   "metadata": {},
   "outputs": [],
   "source": [
    "sum_engine_make['fatality_perc'] = (sum_engine_make['Total.Fatal.Injuries']/sum_engine_make['total_pop']) * 100\n",
    "sum_engine_make['injury_perc'] = ((sum_engine_make['Total.Serious.Injuries']+sum_engine_make['Total.Minor.Injuries'])/sum_engine_make['total_pop']) * 100\n",
    "sum_engine_make['uninjured_perc'] = (sum_engine_make['Total.Uninjured']/sum_engine_make['total_pop']) * 100\n",
    "sum_engine_make.reset_index(inplace = True)"
   ]
  },
  {
   "cell_type": "code",
   "execution_count": null,
   "metadata": {},
   "outputs": [],
   "source": [
    "#GROUP BY MAKE"
   ]
  },
  {
   "cell_type": "code",
   "execution_count": 43,
   "metadata": {},
   "outputs": [],
   "source": [
    "sum_make = df_edited2.groupby(['Make']).sum().sort_values(by='total_pop', ascending = False)"
   ]
  },
  {
   "cell_type": "code",
   "execution_count": 44,
   "metadata": {},
   "outputs": [],
   "source": [
    "sum_make['fatality_perc'] = (sum_make['Total.Fatal.Injuries']/sum_make['total_pop']) * 100\n",
    "sum_make['injury_perc'] = ((sum_make['Total.Serious.Injuries']+sum_make['Total.Minor.Injuries'])/sum_make['total_pop']) * 100\n",
    "sum_make['uninjured_perc'] = (sum_make['Total.Uninjured']/sum_make['total_pop']) * 100\n",
    "sum_make.reset_index(inplace = True)"
   ]
  },
  {
   "cell_type": "code",
   "execution_count": 45,
   "metadata": {},
   "outputs": [],
   "source": [
    "#GROUP BY ENGINE NUM\n",
    "sum_engine = df_edited2.groupby(['Number.of.Engines']).sum().sort_values(by='total_pop', ascending = False)"
   ]
  },
  {
   "cell_type": "code",
   "execution_count": 46,
   "metadata": {},
   "outputs": [],
   "source": [
    "sum_engine['fatality_perc'] = (sum_engine['Total.Fatal.Injuries']/sum_engine['total_pop']) * 100\n",
    "sum_engine['injury_perc'] = ((sum_engine['Total.Serious.Injuries']+sum_engine['Total.Minor.Injuries'])/sum_engine['total_pop']) * 100\n",
    "sum_engine['uninjured_perc'] = (sum_engine['Total.Uninjured']/sum_engine['total_pop']) * 100\n",
    "sum_engine.reset_index(inplace = True)"
   ]
  },
  {
   "cell_type": "markdown",
   "metadata": {},
   "source": [
    "# Fatality Analyzing"
   ]
  },
  {
   "cell_type": "code",
   "execution_count": 47,
   "metadata": {},
   "outputs": [
    {
     "data": {
      "text/html": [
       "<div>\n",
       "<style scoped>\n",
       "    .dataframe tbody tr th:only-of-type {\n",
       "        vertical-align: middle;\n",
       "    }\n",
       "\n",
       "    .dataframe tbody tr th {\n",
       "        vertical-align: top;\n",
       "    }\n",
       "\n",
       "    .dataframe thead th {\n",
       "        text-align: right;\n",
       "    }\n",
       "</style>\n",
       "<table border=\"1\" class=\"dataframe\">\n",
       "  <thead>\n",
       "    <tr style=\"text-align: right;\">\n",
       "      <th></th>\n",
       "      <th>Number.of.Engines</th>\n",
       "      <th>Total.Fatal.Injuries</th>\n",
       "      <th>Total.Serious.Injuries</th>\n",
       "      <th>Total.Minor.Injuries</th>\n",
       "      <th>Total.Uninjured</th>\n",
       "      <th>year</th>\n",
       "      <th>counter</th>\n",
       "      <th>total_pop</th>\n",
       "      <th>fatality_perc</th>\n",
       "      <th>injury_perc</th>\n",
       "      <th>uninjured_perc</th>\n",
       "    </tr>\n",
       "  </thead>\n",
       "  <tbody>\n",
       "    <tr>\n",
       "      <th>0</th>\n",
       "      <td>2.0</td>\n",
       "      <td>9212.0</td>\n",
       "      <td>3021.0</td>\n",
       "      <td>3852.0</td>\n",
       "      <td>184085.0</td>\n",
       "      <td>18443836</td>\n",
       "      <td>9215</td>\n",
       "      <td>200170.0</td>\n",
       "      <td>4.602088</td>\n",
       "      <td>3.433581</td>\n",
       "      <td>91.964330</td>\n",
       "    </tr>\n",
       "    <tr>\n",
       "      <th>1</th>\n",
       "      <td>1.0</td>\n",
       "      <td>18412.0</td>\n",
       "      <td>11828.0</td>\n",
       "      <td>14712.0</td>\n",
       "      <td>59883.0</td>\n",
       "      <td>116611433</td>\n",
       "      <td>58263</td>\n",
       "      <td>104835.0</td>\n",
       "      <td>17.562837</td>\n",
       "      <td>25.315973</td>\n",
       "      <td>57.121190</td>\n",
       "    </tr>\n",
       "    <tr>\n",
       "      <th>2</th>\n",
       "      <td>3.0</td>\n",
       "      <td>553.0</td>\n",
       "      <td>271.0</td>\n",
       "      <td>930.0</td>\n",
       "      <td>37550.0</td>\n",
       "      <td>734035</td>\n",
       "      <td>368</td>\n",
       "      <td>39304.0</td>\n",
       "      <td>1.406981</td>\n",
       "      <td>3.055669</td>\n",
       "      <td>95.537350</td>\n",
       "    </tr>\n",
       "    <tr>\n",
       "      <th>3</th>\n",
       "      <td>4.0</td>\n",
       "      <td>1313.0</td>\n",
       "      <td>215.0</td>\n",
       "      <td>371.0</td>\n",
       "      <td>32893.0</td>\n",
       "      <td>701593</td>\n",
       "      <td>351</td>\n",
       "      <td>34792.0</td>\n",
       "      <td>3.773856</td>\n",
       "      <td>1.684295</td>\n",
       "      <td>94.541849</td>\n",
       "    </tr>\n",
       "    <tr>\n",
       "      <th>4</th>\n",
       "      <td>0.0</td>\n",
       "      <td>385.0</td>\n",
       "      <td>363.0</td>\n",
       "      <td>437.0</td>\n",
       "      <td>2912.0</td>\n",
       "      <td>2070497</td>\n",
       "      <td>1035</td>\n",
       "      <td>4097.0</td>\n",
       "      <td>9.397120</td>\n",
       "      <td>19.526483</td>\n",
       "      <td>71.076397</td>\n",
       "    </tr>\n",
       "  </tbody>\n",
       "</table>\n",
       "</div>"
      ],
      "text/plain": [
       "   Number.of.Engines  Total.Fatal.Injuries  Total.Serious.Injuries  \\\n",
       "0                2.0                9212.0                  3021.0   \n",
       "1                1.0               18412.0                 11828.0   \n",
       "2                3.0                 553.0                   271.0   \n",
       "3                4.0                1313.0                   215.0   \n",
       "4                0.0                 385.0                   363.0   \n",
       "\n",
       "   Total.Minor.Injuries  Total.Uninjured       year  counter  total_pop  \\\n",
       "0                3852.0         184085.0   18443836     9215   200170.0   \n",
       "1               14712.0          59883.0  116611433    58263   104835.0   \n",
       "2                 930.0          37550.0     734035      368    39304.0   \n",
       "3                 371.0          32893.0     701593      351    34792.0   \n",
       "4                 437.0           2912.0    2070497     1035     4097.0   \n",
       "\n",
       "   fatality_perc  injury_perc  uninjured_perc  \n",
       "0       4.602088     3.433581       91.964330  \n",
       "1      17.562837    25.315973       57.121190  \n",
       "2       1.406981     3.055669       95.537350  \n",
       "3       3.773856     1.684295       94.541849  \n",
       "4       9.397120    19.526483       71.076397  "
      ]
     },
     "execution_count": 47,
     "metadata": {},
     "output_type": "execute_result"
    }
   ],
   "source": [
    "new_sum_engine = sum_engine[sum_engine['counter'] > 32]\n",
    "new_sum_engine"
   ]
  },
  {
   "cell_type": "code",
   "execution_count": 48,
   "metadata": {},
   "outputs": [
    {
     "data": {
      "text/html": [
       "<div>\n",
       "<style scoped>\n",
       "    .dataframe tbody tr th:only-of-type {\n",
       "        vertical-align: middle;\n",
       "    }\n",
       "\n",
       "    .dataframe tbody tr th {\n",
       "        vertical-align: top;\n",
       "    }\n",
       "\n",
       "    .dataframe thead th {\n",
       "        text-align: right;\n",
       "    }\n",
       "</style>\n",
       "<table border=\"1\" class=\"dataframe\">\n",
       "  <thead>\n",
       "    <tr style=\"text-align: right;\">\n",
       "      <th></th>\n",
       "      <th>Number.of.Engines</th>\n",
       "      <th>Total.Fatal.Injuries</th>\n",
       "      <th>Total.Serious.Injuries</th>\n",
       "      <th>Total.Minor.Injuries</th>\n",
       "      <th>Total.Uninjured</th>\n",
       "      <th>year</th>\n",
       "      <th>counter</th>\n",
       "      <th>total_pop</th>\n",
       "      <th>fatality_perc</th>\n",
       "      <th>injury_perc</th>\n",
       "      <th>uninjured_perc</th>\n",
       "    </tr>\n",
       "  </thead>\n",
       "  <tbody>\n",
       "    <tr>\n",
       "      <th>2</th>\n",
       "      <td>3.0</td>\n",
       "      <td>553.0</td>\n",
       "      <td>271.0</td>\n",
       "      <td>930.0</td>\n",
       "      <td>37550.0</td>\n",
       "      <td>734035</td>\n",
       "      <td>368</td>\n",
       "      <td>39304.0</td>\n",
       "      <td>1.406981</td>\n",
       "      <td>3.055669</td>\n",
       "      <td>95.537350</td>\n",
       "    </tr>\n",
       "    <tr>\n",
       "      <th>3</th>\n",
       "      <td>4.0</td>\n",
       "      <td>1313.0</td>\n",
       "      <td>215.0</td>\n",
       "      <td>371.0</td>\n",
       "      <td>32893.0</td>\n",
       "      <td>701593</td>\n",
       "      <td>351</td>\n",
       "      <td>34792.0</td>\n",
       "      <td>3.773856</td>\n",
       "      <td>1.684295</td>\n",
       "      <td>94.541849</td>\n",
       "    </tr>\n",
       "    <tr>\n",
       "      <th>0</th>\n",
       "      <td>2.0</td>\n",
       "      <td>9212.0</td>\n",
       "      <td>3021.0</td>\n",
       "      <td>3852.0</td>\n",
       "      <td>184085.0</td>\n",
       "      <td>18443836</td>\n",
       "      <td>9215</td>\n",
       "      <td>200170.0</td>\n",
       "      <td>4.602088</td>\n",
       "      <td>3.433581</td>\n",
       "      <td>91.964330</td>\n",
       "    </tr>\n",
       "    <tr>\n",
       "      <th>4</th>\n",
       "      <td>0.0</td>\n",
       "      <td>385.0</td>\n",
       "      <td>363.0</td>\n",
       "      <td>437.0</td>\n",
       "      <td>2912.0</td>\n",
       "      <td>2070497</td>\n",
       "      <td>1035</td>\n",
       "      <td>4097.0</td>\n",
       "      <td>9.397120</td>\n",
       "      <td>19.526483</td>\n",
       "      <td>71.076397</td>\n",
       "    </tr>\n",
       "    <tr>\n",
       "      <th>1</th>\n",
       "      <td>1.0</td>\n",
       "      <td>18412.0</td>\n",
       "      <td>11828.0</td>\n",
       "      <td>14712.0</td>\n",
       "      <td>59883.0</td>\n",
       "      <td>116611433</td>\n",
       "      <td>58263</td>\n",
       "      <td>104835.0</td>\n",
       "      <td>17.562837</td>\n",
       "      <td>25.315973</td>\n",
       "      <td>57.121190</td>\n",
       "    </tr>\n",
       "  </tbody>\n",
       "</table>\n",
       "</div>"
      ],
      "text/plain": [
       "   Number.of.Engines  Total.Fatal.Injuries  Total.Serious.Injuries  \\\n",
       "2                3.0                 553.0                   271.0   \n",
       "3                4.0                1313.0                   215.0   \n",
       "0                2.0                9212.0                  3021.0   \n",
       "4                0.0                 385.0                   363.0   \n",
       "1                1.0               18412.0                 11828.0   \n",
       "\n",
       "   Total.Minor.Injuries  Total.Uninjured       year  counter  total_pop  \\\n",
       "2                 930.0          37550.0     734035      368    39304.0   \n",
       "3                 371.0          32893.0     701593      351    34792.0   \n",
       "0                3852.0         184085.0   18443836     9215   200170.0   \n",
       "4                 437.0           2912.0    2070497     1035     4097.0   \n",
       "1               14712.0          59883.0  116611433    58263   104835.0   \n",
       "\n",
       "   fatality_perc  injury_perc  uninjured_perc  \n",
       "2       1.406981     3.055669       95.537350  \n",
       "3       3.773856     1.684295       94.541849  \n",
       "0       4.602088     3.433581       91.964330  \n",
       "4       9.397120    19.526483       71.076397  \n",
       "1      17.562837    25.315973       57.121190  "
      ]
     },
     "execution_count": 48,
     "metadata": {},
     "output_type": "execute_result"
    }
   ],
   "source": [
    "new_sum_engine.sort_values(by = 'uninjured_perc', ascending = False)"
   ]
  },
  {
   "cell_type": "code",
   "execution_count": null,
   "metadata": {},
   "outputs": [],
   "source": [
    "##CONCLUSION: 3 4 and 2 are safest\n",
    "## 0 and 1 are not safest"
   ]
  },
  {
   "cell_type": "code",
   "execution_count": 55,
   "metadata": {},
   "outputs": [],
   "source": [
    "new_sum_engine_make = sum_engine_make[sum_engine_make['counter'] > 32]"
   ]
  },
  {
   "cell_type": "code",
   "execution_count": 56,
   "metadata": {},
   "outputs": [
    {
     "data": {
      "text/html": [
       "<div>\n",
       "<style scoped>\n",
       "    .dataframe tbody tr th:only-of-type {\n",
       "        vertical-align: middle;\n",
       "    }\n",
       "\n",
       "    .dataframe tbody tr th {\n",
       "        vertical-align: top;\n",
       "    }\n",
       "\n",
       "    .dataframe thead th {\n",
       "        text-align: right;\n",
       "    }\n",
       "</style>\n",
       "<table border=\"1\" class=\"dataframe\">\n",
       "  <thead>\n",
       "    <tr style=\"text-align: right;\">\n",
       "      <th></th>\n",
       "      <th>Make</th>\n",
       "      <th>Number.of.Engines</th>\n",
       "      <th>Total.Fatal.Injuries</th>\n",
       "      <th>Total.Serious.Injuries</th>\n",
       "      <th>Total.Minor.Injuries</th>\n",
       "      <th>Total.Uninjured</th>\n",
       "      <th>year</th>\n",
       "      <th>counter</th>\n",
       "      <th>total_pop</th>\n",
       "      <th>fatality_perc</th>\n",
       "      <th>injury_perc</th>\n",
       "      <th>uninjured_perc</th>\n",
       "    </tr>\n",
       "  </thead>\n",
       "  <tbody>\n",
       "    <tr>\n",
       "      <th>22</th>\n",
       "      <td>Bombardier</td>\n",
       "      <td>2.0</td>\n",
       "      <td>0.0</td>\n",
       "      <td>11.0</td>\n",
       "      <td>19.0</td>\n",
       "      <td>1730.0</td>\n",
       "      <td>98402</td>\n",
       "      <td>49</td>\n",
       "      <td>1760.0</td>\n",
       "      <td>0.000000</td>\n",
       "      <td>1.704545</td>\n",
       "      <td>98.295455</td>\n",
       "    </tr>\n",
       "    <tr>\n",
       "      <th>42</th>\n",
       "      <td>Saab-Scania Ab (Saab)</td>\n",
       "      <td>2.0</td>\n",
       "      <td>1.0</td>\n",
       "      <td>8.0</td>\n",
       "      <td>4.0</td>\n",
       "      <td>733.0</td>\n",
       "      <td>69952</td>\n",
       "      <td>35</td>\n",
       "      <td>746.0</td>\n",
       "      <td>0.134048</td>\n",
       "      <td>1.608579</td>\n",
       "      <td>98.257373</td>\n",
       "    </tr>\n",
       "    <tr>\n",
       "      <th>34</th>\n",
       "      <td>Canadair</td>\n",
       "      <td>2.0</td>\n",
       "      <td>10.0</td>\n",
       "      <td>12.0</td>\n",
       "      <td>9.0</td>\n",
       "      <td>939.0</td>\n",
       "      <td>82065</td>\n",
       "      <td>41</td>\n",
       "      <td>970.0</td>\n",
       "      <td>1.030928</td>\n",
       "      <td>2.164948</td>\n",
       "      <td>96.804124</td>\n",
       "    </tr>\n",
       "    <tr>\n",
       "      <th>20</th>\n",
       "      <td>Fokker</td>\n",
       "      <td>2.0</td>\n",
       "      <td>27.0</td>\n",
       "      <td>15.0</td>\n",
       "      <td>28.0</td>\n",
       "      <td>2100.0</td>\n",
       "      <td>79841</td>\n",
       "      <td>40</td>\n",
       "      <td>2170.0</td>\n",
       "      <td>1.244240</td>\n",
       "      <td>1.981567</td>\n",
       "      <td>96.774194</td>\n",
       "    </tr>\n",
       "    <tr>\n",
       "      <th>18</th>\n",
       "      <td>Bombardier Inc</td>\n",
       "      <td>2.0</td>\n",
       "      <td>55.0</td>\n",
       "      <td>15.0</td>\n",
       "      <td>11.0</td>\n",
       "      <td>2357.0</td>\n",
       "      <td>124857</td>\n",
       "      <td>62</td>\n",
       "      <td>2438.0</td>\n",
       "      <td>2.255947</td>\n",
       "      <td>1.066448</td>\n",
       "      <td>96.677605</td>\n",
       "    </tr>\n",
       "    <tr>\n",
       "      <th>...</th>\n",
       "      <td>...</td>\n",
       "      <td>...</td>\n",
       "      <td>...</td>\n",
       "      <td>...</td>\n",
       "      <td>...</td>\n",
       "      <td>...</td>\n",
       "      <td>...</td>\n",
       "      <td>...</td>\n",
       "      <td>...</td>\n",
       "      <td>...</td>\n",
       "      <td>...</td>\n",
       "      <td>...</td>\n",
       "    </tr>\n",
       "    <tr>\n",
       "      <th>174</th>\n",
       "      <td>Schempp-Hirth</td>\n",
       "      <td>0.0</td>\n",
       "      <td>10.0</td>\n",
       "      <td>10.0</td>\n",
       "      <td>5.0</td>\n",
       "      <td>15.0</td>\n",
       "      <td>72062</td>\n",
       "      <td>36</td>\n",
       "      <td>40.0</td>\n",
       "      <td>25.000000</td>\n",
       "      <td>37.500000</td>\n",
       "      <td>37.500000</td>\n",
       "    </tr>\n",
       "    <tr>\n",
       "      <th>127</th>\n",
       "      <td>Rans</td>\n",
       "      <td>1.0</td>\n",
       "      <td>27.0</td>\n",
       "      <td>14.0</td>\n",
       "      <td>9.0</td>\n",
       "      <td>29.0</td>\n",
       "      <td>116580</td>\n",
       "      <td>58</td>\n",
       "      <td>79.0</td>\n",
       "      <td>34.177215</td>\n",
       "      <td>29.113924</td>\n",
       "      <td>36.708861</td>\n",
       "    </tr>\n",
       "    <tr>\n",
       "      <th>113</th>\n",
       "      <td>American</td>\n",
       "      <td>1.0</td>\n",
       "      <td>12.0</td>\n",
       "      <td>23.0</td>\n",
       "      <td>30.0</td>\n",
       "      <td>37.0</td>\n",
       "      <td>123964</td>\n",
       "      <td>62</td>\n",
       "      <td>102.0</td>\n",
       "      <td>11.764706</td>\n",
       "      <td>51.960784</td>\n",
       "      <td>36.274510</td>\n",
       "    </tr>\n",
       "    <tr>\n",
       "      <th>94</th>\n",
       "      <td>Vans</td>\n",
       "      <td>1.0</td>\n",
       "      <td>45.0</td>\n",
       "      <td>33.0</td>\n",
       "      <td>23.0</td>\n",
       "      <td>54.0</td>\n",
       "      <td>209851</td>\n",
       "      <td>104</td>\n",
       "      <td>155.0</td>\n",
       "      <td>29.032258</td>\n",
       "      <td>36.129032</td>\n",
       "      <td>34.838710</td>\n",
       "    </tr>\n",
       "    <tr>\n",
       "      <th>130</th>\n",
       "      <td>Quicksilver</td>\n",
       "      <td>1.0</td>\n",
       "      <td>19.0</td>\n",
       "      <td>13.0</td>\n",
       "      <td>19.0</td>\n",
       "      <td>25.0</td>\n",
       "      <td>112476</td>\n",
       "      <td>56</td>\n",
       "      <td>76.0</td>\n",
       "      <td>25.000000</td>\n",
       "      <td>42.105263</td>\n",
       "      <td>32.894737</td>\n",
       "    </tr>\n",
       "  </tbody>\n",
       "</table>\n",
       "<p>104 rows × 12 columns</p>\n",
       "</div>"
      ],
      "text/plain": [
       "                      Make  Number.of.Engines  Total.Fatal.Injuries  \\\n",
       "22              Bombardier                2.0                   0.0   \n",
       "42   Saab-Scania Ab (Saab)                2.0                   1.0   \n",
       "34                Canadair                2.0                  10.0   \n",
       "20                  Fokker                2.0                  27.0   \n",
       "18          Bombardier Inc                2.0                  55.0   \n",
       "..                     ...                ...                   ...   \n",
       "174          Schempp-Hirth                0.0                  10.0   \n",
       "127                   Rans                1.0                  27.0   \n",
       "113               American                1.0                  12.0   \n",
       "94                    Vans                1.0                  45.0   \n",
       "130            Quicksilver                1.0                  19.0   \n",
       "\n",
       "     Total.Serious.Injuries  Total.Minor.Injuries  Total.Uninjured    year  \\\n",
       "22                     11.0                  19.0           1730.0   98402   \n",
       "42                      8.0                   4.0            733.0   69952   \n",
       "34                     12.0                   9.0            939.0   82065   \n",
       "20                     15.0                  28.0           2100.0   79841   \n",
       "18                     15.0                  11.0           2357.0  124857   \n",
       "..                      ...                   ...              ...     ...   \n",
       "174                    10.0                   5.0             15.0   72062   \n",
       "127                    14.0                   9.0             29.0  116580   \n",
       "113                    23.0                  30.0             37.0  123964   \n",
       "94                     33.0                  23.0             54.0  209851   \n",
       "130                    13.0                  19.0             25.0  112476   \n",
       "\n",
       "     counter  total_pop  fatality_perc  injury_perc  uninjured_perc  \n",
       "22        49     1760.0       0.000000     1.704545       98.295455  \n",
       "42        35      746.0       0.134048     1.608579       98.257373  \n",
       "34        41      970.0       1.030928     2.164948       96.804124  \n",
       "20        40     2170.0       1.244240     1.981567       96.774194  \n",
       "18        62     2438.0       2.255947     1.066448       96.677605  \n",
       "..       ...        ...            ...          ...             ...  \n",
       "174       36       40.0      25.000000    37.500000       37.500000  \n",
       "127       58       79.0      34.177215    29.113924       36.708861  \n",
       "113       62      102.0      11.764706    51.960784       36.274510  \n",
       "94       104      155.0      29.032258    36.129032       34.838710  \n",
       "130       56       76.0      25.000000    42.105263       32.894737  \n",
       "\n",
       "[104 rows x 12 columns]"
      ]
     },
     "execution_count": 56,
     "metadata": {},
     "output_type": "execute_result"
    }
   ],
   "source": [
    "new_sum_engine_make.sort_values(by = 'uninjured_perc', ascending = False)"
   ]
  },
  {
   "cell_type": "code",
   "execution_count": null,
   "metadata": {},
   "outputs": [],
   "source": []
  },
  {
   "cell_type": "markdown",
   "metadata": {},
   "source": [
    "# Weather IMC vs VMC"
   ]
  },
  {
   "cell_type": "code",
   "execution_count": null,
   "metadata": {},
   "outputs": [],
   "source": [
    "weather_cond_val = df_edited2['Weather.Condition'].value_counts()"
   ]
  },
  {
   "cell_type": "code",
   "execution_count": null,
   "metadata": {},
   "outputs": [],
   "source": [
    "fig, ax = plt.subplots(figsize = (10,10))\n",
    "\n",
    "\n",
    "\n",
    "ax.bar(x = weather_cond_val.index, height = weather_cond_val.values)\n",
    "\n"
   ]
  },
  {
   "cell_type": "code",
   "execution_count": null,
   "metadata": {},
   "outputs": [],
   "source": []
  }
 ],
 "metadata": {
  "kernelspec": {
   "display_name": "Python (learn-env)",
   "language": "python",
   "name": "learn-env"
  },
  "language_info": {
   "codemirror_mode": {
    "name": "ipython",
    "version": 3
   },
   "file_extension": ".py",
   "mimetype": "text/x-python",
   "name": "python",
   "nbconvert_exporter": "python",
   "pygments_lexer": "ipython3",
   "version": "3.8.5"
  }
 },
 "nbformat": 4,
 "nbformat_minor": 4
}
